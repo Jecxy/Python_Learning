{
 "cells": [
  {
   "cell_type": "code",
   "execution_count": 13,
   "metadata": {},
   "outputs": [
    {
     "data": {
      "text/plain": [
       "'Nice!'"
      ]
     },
     "execution_count": 13,
     "metadata": {},
     "output_type": "execute_result"
    }
   ],
   "source": [
    "def naughty_or_nice(data):\n",
    "    data_str=str(data)\n",
    "    ni=data_str.count('Nice')\n",
    "    na=data_str.count('Naughty')\n",
    "    if ni>=na:\n",
    "        return 'Nice!'\n",
    "    else:\n",
    "        return 'Naughty'\n",
    "naughty_or_nice({\"January\": {\"1\": \"Naughty\", \"2\": \"Nice\", \"3\": \"Naughty\", \"4\": \"Nice\", \"5\": \"Nice\", \"6\": \"Nice\", \"7\": \"Naughty\", \"8\": \"Nice\", \"9\": \"Nice\", \"10\": \"Naughty\", \"11\": \"Nice\", \"12\": \"Nice\", \"13\": \"Nice\", \"14\": \"Naughty\", \"15\": \"Naughty\", \"16\": \"Naughty\", \"17\": \"Nice\", \"18\": \"Nice\", \"19\": \"Naughty\", \"20\": \"Nice\", \"21\": \"Naughty\", \"22\": \"Nice\", \"23\": \"Naughty\", \"24\": \"Nice\", \"25\": \"Naughty\", \"26\": \"Nice\", \"27\": \"Nice\", \"28\": \"Naughty\", \"29\": \"Nice\", \"30\": \"Nice\", \"31\": \"Nice\"}, \"February\": {\"1\": \"Nice\", \"2\": \"Naughty\", \"3\": \"Nice\", \"4\": \"Nice\", \"5\": \"Nice\", \"6\": \"Nice\", \"7\": \"Nice\", \"8\": \"Nice\", \"9\": \"Naughty\", \"10\": \"Naughty\", \"11\": \"Naughty\", \"12\": \"Nice\", \"13\": \"Nice\", \"14\": \"Naughty\", \"15\": \"Naughty\", \"16\": \"Nice\", \"17\": \"Nice\", \"18\": \"Naughty\", \"19\": \"Nice\", \"20\": \"Nice\", \"21\": \"Nice\", \"22\": \"Nice\", \"23\": \"Nice\", \"24\": \"Naughty\", \"25\": \"Naughty\", \"26\": \"Nice\", \"27\": \"Naughty\", \"28\": \"Nice\"}, \"March\": {\"1\": \"Nice\", \"2\": \"Naughty\", \"3\": \"Nice\", \"4\": \"Nice\", \"5\": \"Nice\", \"6\": \"Naughty\", \"7\": \"Nice\", \"8\": \"Nice\", \"9\": \"Nice\", \"10\": \"Naughty\", \"11\": \"Naughty\", \"12\": \"Nice\", \"13\": \"Naughty\", \"14\": \"Naughty\", \"15\": \"Naughty\", \"16\": \"Nice\", \"17\": \"Nice\", \"18\": \"Nice\", \"19\": \"Naughty\", \"20\": \"Nice\", \"21\": \"Naughty\", \"22\": \"Naughty\", \"23\": \"Nice\", \"24\": \"Nice\", \"25\": \"Nice\", \"26\": \"Nice\", \"27\": \"Nice\", \"28\": \"Naughty\", \"29\": \"Nice\", \"30\": \"Nice\", \"31\": \"Naughty\"}, \"April\": {\"1\": \"Naughty\", \"2\": \"Naughty\", \"3\": \"Nice\", \"4\": \"Nice\", \"5\": \"Nice\", \"6\": \"Naughty\", \"7\": \"Naughty\", \"8\": \"Nice\", \"9\": \"Nice\", \"10\": \"Nice\", \"11\": \"Nice\", \"12\": \"Nice\", \"13\": \"Naughty\", \"14\": \"Nice\", \"15\": \"Naughty\", \"16\": \"Naughty\", \"17\": \"Nice\", \"18\": \"Naughty\", \"19\": \"Nice\", \"20\": \"Naughty\", \"21\": \"Naughty\", \"22\": \"Nice\", \"23\": \"Nice\", \"24\": \"Naughty\", \"25\": \"Nice\", \"26\": \"Naughty\", \"27\": \"Naughty\", \"28\": \"Nice\", \"29\": \"Nice\", \"30\": \"Nice\"}, \"May\": {\"1\": \"Nice\", \"2\": \"Naughty\", \"3\": \"Naughty\", \"4\": \"Nice\", \"5\": \"Nice\", \"6\": \"Nice\", \"7\": \"Naughty\", \"8\": \"Nice\", \"9\": \"Nice\", \"10\": \"Nice\", \"11\": \"Naughty\", \"12\": \"Naughty\", \"13\": \"Naughty\", \"14\": \"Naughty\", \"15\": \"Nice\", \"16\": \"Naughty\", \"17\": \"Naughty\", \"18\": \"Nice\", \"19\": \"Nice\", \"20\": \"Nice\", \"21\": \"Nice\", \"22\": \"Nice\", \"23\": \"Naughty\", \"24\": \"Naughty\", \"25\": \"Nice\", \"26\": \"Nice\", \"27\": \"Nice\", \"28\": \"Naughty\", \"29\": \"Naughty\", \"30\": \"Naughty\", \"31\": \"Nice\"}, \"June\": {\"1\": \"Naughty\", \"2\": \"Nice\", \"3\": \"Naughty\", \"4\": \"Nice\", \"5\": \"Naughty\", \"6\": \"Nice\", \"7\": \"Nice\", \"8\": \"Nice\", \"9\": \"Nice\", \"10\": \"Naughty\", \"11\": \"Naughty\", \"12\": \"Nice\", \"13\": \"Nice\", \"14\": \"Naughty\", \"15\": \"Nice\", \"16\": \"Naughty\", \"17\": \"Naughty\", \"18\": \"Naughty\", \"19\": \"Nice\", \"20\": \"Nice\", \"21\": \"Nice\", \"22\": \"Nice\", \"23\": \"Nice\", \"24\": \"Nice\", \"25\": \"Nice\", \"26\": \"Nice\", \"27\": \"Nice\", \"28\": \"Nice\", \"29\": \"Naughty\", \"30\": \"Nice\"}, \"July\": {\"1\": \"Nice\", \"2\": \"Nice\", \"3\": \"Nice\", \"4\": \"Naughty\", \"5\": \"Nice\", \"6\": \"Nice\", \"7\": \"Nice\", \"8\": \"Nice\", \"9\": \"Naughty\", \"10\": \"Nice\", \"11\": \"Nice\", \"12\": \"Naughty\", \"13\": \"Nice\", \"14\": \"Naughty\", \"15\": \"Nice\", \"16\": \"Nice\", \"17\": \"Naughty\", \"18\": \"Nice\", \"19\": \"Naughty\", \"20\": \"Nice\", \"21\": \"Nice\", \"22\": \"Nice\", \"23\": \"Nice\", \"24\": \"Naughty\", \"25\": \"Naughty\", \"26\": \"Nice\", \"27\": \"Naughty\", \"28\": \"Naughty\", \"29\": \"Nice\", \"30\": \"Nice\", \"31\": \"Nice\"}, \"August\": {\"1\": \"Naughty\", \"2\": \"Nice\", \"3\": \"Naughty\", \"4\": \"Nice\", \"5\": \"Nice\", \"6\": \"Nice\", \"7\": \"Nice\", \"8\": \"Nice\", \"9\": \"Naughty\", \"10\": \"Naughty\", \"11\": \"Nice\", \"12\": \"Naughty\", \"13\": \"Nice\", \"14\": \"Naughty\", \"15\": \"Nice\", \"16\": \"Nice\", \"17\": \"Naughty\", \"18\": \"Nice\", \"19\": \"Naughty\", \"20\": \"Nice\", \"21\": \"Nice\", \"22\": \"Naughty\", \"23\": \"Naughty\", \"24\": \"Naughty\", \"25\": \"Naughty\", \"26\": \"Nice\", \"27\": \"Nice\", \"28\": \"Nice\", \"29\": \"Naughty\", \"30\": \"Naughty\", \"31\": \"Nice\"}, \"September\": {\"1\": \"Naughty\", \"2\": \"Nice\", \"3\": \"Naughty\", \"4\": \"Nice\", \"5\": \"Nice\", \"6\": \"Nice\", \"7\": \"Nice\", \"8\": \"Naughty\", \"9\": \"Naughty\", \"10\": \"Nice\", \"11\": \"Naughty\", \"12\": \"Naughty\", \"13\": \"Nice\", \"14\": \"Naughty\", \"15\": \"Nice\", \"16\": \"Nice\", \"17\": \"Nice\", \"18\": \"Nice\", \"19\": \"Nice\", \"20\": \"Naughty\", \"21\": \"Nice\", \"22\": \"Nice\", \"23\": \"Nice\", \"24\": \"Nice\", \"25\": \"Nice\", \"26\": \"Naughty\", \"27\": \"Nice\", \"28\": \"Nice\", \"29\": \"Naughty\", \"30\": \"Nice\"}, \"October\": {\"1\": \"Nice\", \"2\": \"Naughty\", \"3\": \"Naughty\", \"4\": \"Naughty\", \"5\": \"Naughty\", \"6\": \"Nice\", \"7\": \"Nice\", \"8\": \"Naughty\", \"9\": \"Nice\", \"10\": \"Nice\", \"11\": \"Naughty\", \"12\": \"Nice\", \"13\": \"Nice\", \"14\": \"Nice\", \"15\": \"Nice\", \"16\": \"Nice\", \"17\": \"Naughty\", \"18\": \"Naughty\", \"19\": \"Nice\", \"20\": \"Nice\", \"21\": \"Naughty\", \"22\": \"Nice\", \"23\": \"Nice\", \"24\": \"Naughty\", \"25\": \"Nice\", \"26\": \"Nice\", \"27\": \"Nice\", \"28\": \"Naughty\", \"29\": \"Naughty\", \"30\": \"Nice\", \"31\": \"Nice\"}, \"November\": {\"1\": \"Naughty\", \"2\": \"Nice\", \"3\": \"Naughty\", \"4\": \"Nice\", \"5\": \"Nice\", \"6\": \"Nice\", \"7\": \"Nice\", \"8\": \"Nice\", \"9\": \"Nice\", \"10\": \"Nice\", \"11\": \"Nice\", \"12\": \"Naughty\", \"13\": \"Naughty\", \"14\": \"Naughty\", \"15\": \"Naughty\", \"16\": \"Nice\", \"17\": \"Naughty\", \"18\": \"Nice\", \"19\": \"Nice\", \"20\": \"Nice\", \"21\": \"Naughty\", \"22\": \"Naughty\", \"23\": \"Nice\", \"24\": \"Naughty\", \"25\": \"Naughty\", \"26\": \"Nice\", \"27\": \"Nice\", \"28\": \"Nice\", \"29\": \"Nice\", \"30\": \"Naughty\"}, \"December\": {\"1\": \"Nice\", \"2\": \"Nice\", \"3\": \"Nice\", \"4\": \"Naughty\", \"5\": \"Nice\", \"6\": \"Naughty\", \"7\": \"Nice\", \"8\": \"Naughty\", \"9\": \"Nice\", \"10\": \"Naughty\", \"11\": \"Naughty\", \"12\": \"Naughty\", \"13\": \"Naughty\", \"14\": \"Naughty\", \"15\": \"Naughty\", \"16\": \"Nice\", \"17\": \"Nice\", \"18\": \"Nice\", \"19\": \"Naughty\", \"20\": \"Nice\", \"21\": \"Naughty\", \"22\": \"Naughty\", \"23\": \"Nice\", \"24\": \"Nice\", \"25\": \"Naughty\", \"26\": \"Nice\", \"27\": \"Nice\", \"28\": \"Nice\", \"29\": \"Nice\", \"30\": \"Nice\", \"31\": \"Nice\"}})"
   ]
  },
  {
   "cell_type": "code",
   "execution_count": 23,
   "metadata": {},
   "outputs": [
    {
     "name": "stdout",
     "output_type": "stream",
     "text": [
      "['2412', '2413', '2416', '2422', '2423', '2426', '2442', '2443', '2446', '2712', '2713', '2716', '2722', '2723', '2726', '2742', '2743', '2746', '2812', '2813', '2816', '2822', '2823', '2826', '2842', '2843', '2846', '4412', '4413', '4416', '4422', '4423', '4426', '4442', '4443', '4446', '4712', '4713', '4716', '4722', '4723', '4726', '4742', '4743', '4746', '4812', '4813', '4816', '4822', '4823', '4826', '4842', '4843', '4846', '5412', '5413', '5416', '5422', '5423', '5426', '5442', '5443', '5446', '5712', '5713', '5716', '5722', '5723', '5726', '5742', '5743', '5746', '5812', '5813', '5816', '5822', '5823', '5826', '5842', '5843', '5846', '6412', '6413', '6416', '6422', '6423', '6426', '6442', '6443', '6446', '6712', '6713', '6716', '6722', '6723', '6726', '6742', '6743', '6746', '6812', '6813', '6816', '6822', '6823', '6826', '6842', '6843', '6846', '8412', '8413', '8416', '8422', '8423', '8426', '8442', '8443', '8446', '8712', '8713', '8716', '8722', '8723', '8726', '8742', '8743', '8746', '8812', '8813', '8816', '8822', '8823', '8826', '8842', '8843', '8846']\n"
     ]
    }
   ],
   "source": [
    "from itertools import product\n",
    "def get_pins(observed):\n",
    "    key_dict = {\n",
    "        \"1\" : [\"1\", \"2\", \"4\"],\n",
    "        \"2\" : [\"1\", \"2\", \"3\", \"5\"],\n",
    "        \"3\" : [\"2\", \"3\", \"6\"],\n",
    "        \"4\" : [\"1\", \"4\", \"5\", \"7\"],\n",
    "        \"5\" : [\"2\", \"4\", \"5\", \"6\", \"8\"],\n",
    "        \"6\" : [\"3\", \"5\", \"6\", \"9\"],\n",
    "        \"7\" : [\"4\", \"7\", \"8\"],\n",
    "        \"8\" : [\"5\", \"7\", \"8\", \"9\", \"0\"],\n",
    "        \"9\" : [\"6\", \"8\", \"9\"],\n",
    "        \"0\" : [\"8\", \"0\"]\n",
    "        }\n",
    "    # 根据输入得到二维数组\n",
    "    nested_list =[  key_dict[ch]  for ch in observed ]\n",
    "    pin=(''.join(item) for item in product(*nested_list))\n",
    "    return pin\n",
    "observed='5713'\n",
    "print(list(get_pins(observed)))"
   ]
  },
  {
   "cell_type": "code",
   "execution_count": 25,
   "metadata": {},
   "outputs": [
    {
     "name": "stdout",
     "output_type": "stream",
     "text": [
      "CDEWARS\n"
     ]
    }
   ],
   "source": [
    "def protein(rna):\n",
    "    # your code here\n",
    "    PROTEIN_DICT = {\n",
    "    # Phenylalanine\n",
    "    'UUC': 'F', 'UUU': 'F',\n",
    "    # Leucine\n",
    "    'UUA': 'L', 'UUG': 'L', 'CUU': 'L', 'CUC': 'L', 'CUA': 'L', 'CUG': 'L',\n",
    "    # Isoleucine\n",
    "    'AUU': 'I', 'AUC': 'I', 'AUA': 'I',\n",
    "    # Methionine\n",
    "    'AUG': 'M',\n",
    "    # Valine\n",
    "    'GUU': 'V', 'GUC': 'V', 'GUA': 'V', 'GUG': 'V',\n",
    "    # Serine\n",
    "    'UCU': 'S', 'UCC': 'S', 'UCA': 'S', 'UCG': 'S', 'AGU': 'S', 'AGC': 'S',\n",
    "    # Proline\n",
    "    'CCU': 'P', 'CCC': 'P', 'CCA': 'P', 'CCG': 'P',\n",
    "    # Threonine\n",
    "    'ACU': 'T', 'ACC': 'T', 'ACA': 'T', 'ACG': 'T',\n",
    "    # Alanine\n",
    "    'GCU': 'A', 'GCC': 'A', 'GCA': 'A', 'GCG': 'A',\n",
    "    # Tyrosine\n",
    "    'UAU': 'Y', 'UAC': 'Y',\n",
    "    # Histidine\n",
    "    'CAU': 'H', 'CAC': 'H',\n",
    "    # Glutamine\n",
    "    'CAA': 'Q', 'CAG': 'Q',\n",
    "    # Asparagine\n",
    "    'AAU': 'N', 'AAC': 'N',\n",
    "    # Lysine\n",
    "    'AAA': 'K', 'AAG': 'K',\n",
    "    # Aspartic Acid\n",
    "    'GAU': 'D', 'GAC': 'D',\n",
    "    # Glutamic Acid\n",
    "    'GAA': 'E', 'GAG': 'E',\n",
    "    # Cystine\n",
    "    'UGU': 'C', 'UGC': 'C',\n",
    "    # Tryptophan\n",
    "    'UGG': 'W',\n",
    "    # Arginine\n",
    "    'CGU': 'R', 'CGC': 'R', 'CGA': 'R', 'CGG': 'R', 'AGA': 'R', 'AGG': 'R',\n",
    "    # Glycine\n",
    "    'GGU': 'G', 'GGC': 'G', 'GGA': 'G', 'GGG': 'G',\n",
    "    # Stop codon\n",
    "    'UAA': 'Stop', 'UGA': 'Stop', 'UAG': 'Stop'\n",
    "    }\n",
    "    protein=''\n",
    "    for i in range(0,len(rna),3):\n",
    "        codon=rna[i:i+3]\n",
    "        if codon =='UAA' or codon =='UGA' or codon == 'UAG':\n",
    "            return protein\n",
    "        elif codon in PROTEIN_DICT:\n",
    "            protein+=PROTEIN_DICT[codon]\n",
    "    return protein\n",
    "rna='UGCGAUGAAUGGGCUCGCUCC'\n",
    "print(protein(rna))"
   ]
  },
  {
   "cell_type": "code",
   "execution_count": 34,
   "metadata": {},
   "outputs": [
    {
     "data": {
      "text/plain": [
       "True"
      ]
     },
     "execution_count": 34,
     "metadata": {},
     "output_type": "execute_result"
    }
   ],
   "source": [
    "def fillable(stock, merch, n):\n",
    "    # Your code goes here.\n",
    "    if merch in stock.keys():\n",
    "        if n <= stock[merch]:\n",
    "            return True\n",
    "        else:\n",
    "            return False\n",
    "    else :\n",
    "        return False\n",
    "stock = {\n",
    "    'football': 4,\n",
    "    'boardgame': 10,\n",
    "    'leggos': 1,\n",
    "    'doll': 5 \n",
    "}\n",
    "fillable(stock,'doll', 3)"
   ]
  }
 ],
 "metadata": {
  "kernelspec": {
   "display_name": "Python 3",
   "language": "python",
   "name": "python3"
  },
  "language_info": {
   "codemirror_mode": {
    "name": "ipython",
    "version": 3
   },
   "file_extension": ".py",
   "mimetype": "text/x-python",
   "name": "python",
   "nbconvert_exporter": "python",
   "pygments_lexer": "ipython3",
   "version": "3.11.5"
  }
 },
 "nbformat": 4,
 "nbformat_minor": 2
}
