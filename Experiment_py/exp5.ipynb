{
 "cells": [
  {
   "cell_type": "code",
   "execution_count": 21,
   "metadata": {},
   "outputs": [
    {
     "data": {
      "text/plain": [
       "'hey wollef roirraw'"
      ]
     },
     "execution_count": 21,
     "metadata": {},
     "output_type": "execute_result"
    }
   ],
   "source": [
    "def spin_words(sentence):\n",
    "    # Your code goes here\n",
    "    words=sentence.split();\n",
    "    spinning_words = [word[::-1] if len(word) >= 5 else word for word in words]\n",
    "    result = \" \".join(spinning_words);\n",
    "    return result\n",
    "\n",
    "spin_words(\"hey fellow warrior\")"
   ]
  },
  {
   "cell_type": "code",
   "execution_count": 20,
   "metadata": {},
   "outputs": [
    {
     "name": "stdout",
     "output_type": "stream",
     "text": [
      "11\n",
      "160\n"
     ]
    }
   ],
   "source": [
    "def find_outlier1(integers):\n",
    "    odds=[x for x in integers if x%2!=0]\n",
    "    evens= [x for x in integers if x%2==0]\n",
    "    return odds[0] if len(odds)<len(evens) else evens[0]\n",
    "\n",
    "def find_outlier2(integers):\n",
    "    # 设置偶数和奇数计数器，初始值都为0\n",
    "    even_count = 0\n",
    "    odd_count = 0\n",
    "    \n",
    "    # 设置找到的第一个奇数和偶数，初始值都为None\n",
    "    first_odd = None\n",
    "    first_even = None\n",
    "\n",
    "    # 遍历整数列表\n",
    "    for value in integers:\n",
    "        # 如果是偶数\n",
    "        if value % 2 == 0:\n",
    "            # 如果这是找到的第一个奇数，记录下来\n",
    "            if first_even is None:\n",
    "                first_even = value\n",
    "            # 如果当前奇数计数器的值大于1，说明离群的数是该偶数\n",
    "            if odd_count > 1:\n",
    "                return value\n",
    "            \n",
    "            # 偶数计数器加1            \n",
    "            even_count += 1\n",
    "            \n",
    "            # 如果偶数计数器的值大于1，说明离群的数是该奇数\n",
    "            # 如果第一个奇数不是None，返回第一个奇数\n",
    "            if even_count > 1 and first_odd is not None:\n",
    "                return first_odd \n",
    "        \n",
    "        # 如果是奇数，奇数计数器加1       \n",
    "        else:\n",
    "            # 如果这是找到的第一个偶数，记录下来\n",
    "            if first_odd is None:\n",
    "                first_odd = value\n",
    "            # 如果当前偶数计数器的值大于1，说明离群的数是该奇数\n",
    "            if even_count > 1:\n",
    "                return value\n",
    "            # 奇数计数器加1\n",
    "            odd_count += 1\n",
    "            \n",
    "            # 如果奇数计数器的值大于1，说明离群的数是该偶数\n",
    "            # 如果第一个偶数不是None，返回第一个偶数\n",
    "            if odd_count > 1 and first_even is not None:\n",
    "                return first_even                  \n",
    "    return None\n",
    "print(find_outlier1([2, 4, 0, 100, 4, 11, 2602, 36]))\n",
    "print(find_outlier2([160, 3, 1719, 19, 11, 13, -21]))"
   ]
  },
  {
   "cell_type": "code",
   "execution_count": 4,
   "metadata": {},
   "outputs": [
    {
     "name": "stdout",
     "output_type": "stream",
     "text": [
      "True\n",
      "False\n"
     ]
    }
   ],
   "source": [
    "def is_pangram(s):\n",
    "    s=s.lower()\n",
    "    for char in 'abcdefghijklmnopqrstuvwxyz':\n",
    "        if char not in s:\n",
    "            return False\n",
    "    return True\n",
    "\n",
    "print(is_pangram(\"The quick brown fox jumps over the lazy dog.\"))\n",
    "print(is_pangram(\"ABCDEFG\"))"
   ]
  }
 ],
 "metadata": {
  "kernelspec": {
   "display_name": "Python 3",
   "language": "python",
   "name": "python3"
  },
  "language_info": {
   "codemirror_mode": {
    "name": "ipython",
    "version": 3
   },
   "file_extension": ".py",
   "mimetype": "text/x-python",
   "name": "python",
   "nbconvert_exporter": "python",
   "pygments_lexer": "ipython3",
   "version": "3.11.5"
  }
 },
 "nbformat": 4,
 "nbformat_minor": 2
}
