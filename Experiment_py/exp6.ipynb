{
 "cells": [
  {
   "cell_type": "code",
   "execution_count": 1,
   "metadata": {},
   "outputs": [
    {
     "data": {
      "text/plain": [
       "1"
      ]
     },
     "execution_count": 1,
     "metadata": {},
     "output_type": "execute_result"
    }
   ],
   "source": [
    "lst1 = [\n",
    "  { 'firstName': 'Noah', 'lastName': 'M.', 'country': 'Switzerland', 'continent': 'Europe', 'age': 19, 'language': 'JavaScript' },\n",
    "  { 'firstName': 'Maia', 'lastName': 'S.', 'country': 'Tahiti', 'continent': 'Oceania', 'age': 28, 'language': 'JavaScript' },\n",
    "  { 'firstName': 'Shufen', 'lastName': 'L.', 'country': 'Taiwan', 'continent': 'Asia', 'age': 35, 'language': 'HTML' },\n",
    "  { 'firstName': 'Sumayah', 'lastName': 'M.', 'country': 'Tajikistan', 'continent': 'Asia', 'age': 30, 'language': 'CSS' }\n",
    "]\n",
    "\n",
    "def count_developers(lst):\n",
    "    return sum(x[\"language\"] == \"JavaScript\" and x[\"continent\"] == \"Europe\" for x in lst)\n",
    "\n",
    "count_developers(lst1)"
   ]
  },
  {
   "cell_type": "code",
   "execution_count": 1,
   "metadata": {},
   "outputs": [
    {
     "name": "stdout",
     "output_type": "stream",
     "text": [
      "35\n",
      "13\n",
      "5\n",
      "3\n"
     ]
    }
   ],
   "source": [
    "def zero(fun=None): return fun(0) if fun else 0\n",
    "def one(fun=None): return fun(1) if fun else 1\n",
    "def two(fun=None): return fun(2) if fun else 2\n",
    "def three(fun=None): return fun(3) if fun else 3\n",
    "def four(fun=None): return fun(4) if fun else 4\n",
    "def five(fun=None): return fun(5) if fun else 5\n",
    "def six(fun=None): return fun(6) if fun else 6\n",
    "def seven(fun=None): return fun(7) if fun else 7\n",
    "def eight(fun=None): return fun(8) if fun else 8\n",
    "def nine(fun=None): return fun(9) if fun else 9\n",
    "\n",
    "def plus(y): return lambda x:x+y\n",
    "def minus(y): return lambda x:x-y\n",
    "def times(y): return lambda x:x*y\n",
    "def divided_by(y): return lambda x:x//y\n",
    "\n",
    "print(seven(times(five())))# must return 35\n",
    "print(four(plus(nine()))) # must return 13\n",
    "print(eight(minus(three()))) # must return 5\n",
    "print(six(divided_by(two()))) # must return 3"
   ]
  },
  {
   "cell_type": "code",
   "execution_count": 2,
   "metadata": {},
   "outputs": [
    {
     "name": "stdout",
     "output_type": "stream",
     "text": [
      "234k\n",
      "98m\n",
      "[1, 2, 3]\n",
      "32B\n",
      "2KB\n",
      "1909938873TB\n",
      "pippi\n"
     ]
    }
   ],
   "source": [
    "def shorten_number(suffixes, base):\n",
    "    #your code here\n",
    "    def fun(data):\n",
    "        try:\n",
    "            number = int(data)\n",
    "        except (TypeError, ValueError):\n",
    "            return str(data)\n",
    "        else:\n",
    "            i = 0       \n",
    "            while number//base > 0 and i < len(suffixes)-1:\n",
    "                number //= base\n",
    "                i += 1\n",
    "            return str(number) + suffixes[i]     \n",
    "    return fun\n",
    "\n",
    "filter1 = shorten_number(['','k','m'],1000)\n",
    "print(filter1('234324'))  # == '234k'\n",
    "print(filter1('98234324')) # == '98m'\n",
    "print(filter1([1,2,3])) # == '[1,2,3]'\n",
    "\n",
    "filter2 = shorten_number(['B','KB','MB','GB', 'TB'],1024)\n",
    "print(filter2('32')) # == '32B'\n",
    "print(filter2('2100'))  # == '2KB';\n",
    "print(filter2('2100000000000000000000'))  # == '2KB';\n",
    "print(filter2('pippi')) # == 'pippi'"
   ]
  }
 ],
 "metadata": {
  "kernelspec": {
   "display_name": "Python 3",
   "language": "python",
   "name": "python3"
  },
  "language_info": {
   "codemirror_mode": {
    "name": "ipython",
    "version": 3
   },
   "file_extension": ".py",
   "mimetype": "text/x-python",
   "name": "python",
   "nbconvert_exporter": "python",
   "pygments_lexer": "ipython3",
   "version": "3.11.5"
  }
 },
 "nbformat": 4,
 "nbformat_minor": 2
}
