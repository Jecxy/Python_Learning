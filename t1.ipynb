{
 "cells": [
  {
   "cell_type": "markdown",
   "metadata": {},
   "source": [
    "# py测试"
   ]
  },
  {
   "cell_type": "code",
   "execution_count": 2,
   "metadata": {},
   "outputs": [
    {
     "name": "stdout",
     "output_type": "stream",
     "text": [
      "pythonoo\n",
      "\tpython\n",
      "\n",
      "python\n",
      "c\n",
      "java\n",
      "1 watermelon1\n",
      "1watermelon 1\n",
      "1watermelon1\n",
      "watermelon \n",
      "https://4399.com\n",
      "4399.com\n",
      "https://4399\n"
     ]
    }
   ],
   "source": [
    "print(\"pythonoo\")\n",
    "print(\"\\tpython\") # \\t 表示制表符，作用为在输出字符串时，在字符串前加上八个空格 ？\n",
    "print(\"\\npython\\nc\\njava\") # \\n 表示换行符，作用为在输出字符串时，在字符串前换行 ？\n",
    "mes = ' watermelon '\n",
    "print(f\"1{mes.rstrip()}1\") # rstrip方法表示去除字符串右边的空白，同理lstrip表示去除字符串左边的空白，strip则是去除两端的空白\n",
    "print(f\"1{mes.lstrip()}1\")\n",
    "print(f\"1{mes.strip()}1\")\n",
    "mes.lstrip()\n",
    "mes = mes.lstrip()\n",
    "print(mes)\n",
    "web = 'https://4399.com'\n",
    "print(web)\n",
    "print(web.removeprefix('https://')) # removeprefix方法表示去除字符串的前缀，具体去除的前缀为在方法后的括号中的字符串 \n",
    "print(web.removesuffix('.com')) # removesuffix方法表示去除字符串的后缀，具体规则同上"
   ]
  }
 ],
 "metadata": {
  "kernelspec": {
   "display_name": "Python 3",
   "language": "python",
   "name": "python3"
  },
  "language_info": {
   "codemirror_mode": {
    "name": "ipython",
    "version": 3
   },
   "file_extension": ".py",
   "mimetype": "text/x-python",
   "name": "python",
   "nbconvert_exporter": "python",
   "pygments_lexer": "ipython3",
   "version": "3.11.5"
  },
  "orig_nbformat": 4
 },
 "nbformat": 4,
 "nbformat_minor": 2
}
