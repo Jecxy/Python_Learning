{
 "cells": [
  {
   "cell_type": "code",
   "execution_count": 21,
   "metadata": {},
   "outputs": [
    {
     "data": {
      "text/plain": [
       "'hey wollef roirraw'"
      ]
     },
     "execution_count": 21,
     "metadata": {},
     "output_type": "execute_result"
    }
   ],
   "source": [
    "def spin_words(sentence):\n",
    "    # Your code goes here\n",
    "    words=sentence.split();\n",
    "    spinning_words = [word[::-1] if len(word) >= 5 else word for word in words]\n",
    "    result = \" \".join(spinning_words);\n",
    "    return result\n",
    "\n",
    "spin_words(\"hey fellow warrior\")"
   ]
  },
  {
   "cell_type": "code",
   "execution_count": 20,
   "metadata": {},
   "outputs": [
    {
     "name": "stdout",
     "output_type": "stream",
     "text": [
      "11\n",
      "160\n"
     ]
    }
   ],
   "source": [
    "def find_outlier1(integers):\n",
    "    odds=[x for x in integers if x%2!=0]\n",
    "    evens= [x for x in integers if x%2==0]\n",
    "    return odds[0] if len(odds)<len(evens) else evens[0]\n",
    "\n",
    "def find_outlier2(integers):\n",
    "    # 设置偶数和奇数计数器，初始值都为0\n",
    "    even_count = 0\n",
    "    odd_count = 0\n",
    "    \n",
    "    # 设置找到的第一个奇数和偶数，初始值都为None\n",
    "    first_odd = None\n",
    "    first_even = None\n",
    "\n",
    "    # 遍历整数列表\n",
    "    for value in integers:\n",
    "        # 如果是偶数\n",
    "        if value % 2 == 0:\n",
    "            # 如果这是找到的第一个奇数，记录下来\n",
    "            if first_even is None:\n",
    "                first_even = value\n",
    "            # 如果当前奇数计数器的值大于1，说明离群的数是该偶数\n",
    "            if odd_count > 1:\n",
    "                return value\n",
    "            \n",
    "            # 偶数计数器加1            \n",
    "            even_count += 1\n",
    "            \n",
    "            # 如果偶数计数器的值大于1，说明离群的数是该奇数\n",
    "            # 如果第一个奇数不是None，返回第一个奇数\n",
    "            if even_count > 1 and first_odd is not None:\n",
    "                return first_odd \n",
    "        \n",
    "        # 如果是奇数，奇数计数器加1       \n",
    "        else:\n",
    "            # 如果这是找到的第一个偶数，记录下来\n",
    "            if first_odd is None:\n",
    "                first_odd = value\n",
    "            # 如果当前偶数计数器的值大于1，说明离群的数是该奇数\n",
    "            if even_count > 1:\n",
    "                return value\n",
    "            # 奇数计数器加1\n",
    "            odd_count += 1\n",
    "            \n",
    "            # 如果奇数计数器的值大于1，说明离群的数是该偶数\n",
    "            # 如果第一个偶数不是None，返回第一个偶数\n",
    "            if odd_count > 1 and first_even is not None:\n",
    "                return first_even                  \n",
    "    return None\n",
    "print(find_outlier1([2, 4, 0, 100, 4, 11, 2602, 36]))\n",
    "print(find_outlier2([160, 3, 1719, 19, 11, 13, -21]))"
   ]
  },
  {
   "cell_type": "code",
   "execution_count": 4,
   "metadata": {},
   "outputs": [
    {
     "name": "stdout",
     "output_type": "stream",
     "text": [
      "True\n",
      "False\n"
     ]
    }
   ],
   "source": [
    "def is_pangram(s):\n",
    "    s=s.lower()\n",
    "    for char in 'abcdefghijklmnopqrstuvwxyz':\n",
    "        if char not in s:\n",
    "            return False\n",
    "    return True\n",
    "\n",
    "print(is_pangram(\"The quick brown fox jumps over the lazy dog.\"))\n",
    "print(is_pangram(\"ABCDEFG\"))"
   ]
  },
  {
   "cell_type": "code",
   "execution_count": 1,
   "metadata": {},
   "outputs": [],
   "source": [
    "def validate_sudoku(board):\n",
    "    \n",
    "    # 利用集合进行比较 {1,2,3,4,5,6,7,8,9}\n",
    "    elements = set(range(1, 10))\n",
    "    \n",
    "    # row\n",
    "    for b in board:\n",
    "        if set(b) != elements: \n",
    "            return False\n",
    "    \n",
    "    # column\n",
    "    for b in zip(*board):   # zip(*board) 可以将矩阵转置\n",
    "        if set(b) != elements: \n",
    "            return False\n",
    "    \n",
    "    # magic squares\n",
    "    for i in range(3, 10, 3):\n",
    "        for j in range(3, 10, 3):\n",
    "            if elements != {(board[q][w]) \n",
    "                            for w in range(j-3, j) \n",
    "                            for q in range(i-3, i)}:\n",
    "                return False\n",
    "            \n",
    "    return True"
   ]
  },
  {
   "cell_type": "code",
   "execution_count": null,
   "metadata": {},
   "outputs": [],
   "source": [
    "def triangle3(row):\n",
    "    # 最长的测试用例长度不会超过100000\n",
    "    # 找到小于100000的所有的3的幂加1，从大到小排序\n",
    "    # reduce 应该等于[3**9+1, 3**8+1, ... , 3**1+1,  3**0+1]\n",
    "    reduce=[3**i+1 for i in range(10) if 3**i<=100000][::-1]\n",
    "    \n",
    "    COLOR = {'GG':'G', 'BB':'B', 'RR':'R', 'BR':'G', \n",
    "            'BG':'R', 'GB':'R', 'GR':'B', 'RG':'B', 'RB':'G'}\n",
    "    \n",
    "    # 从reduce里面最长的长度间隔，取出row里面的元素相加\n",
    "    for length in reduce:\n",
    "        while len(row)>=length:\n",
    "            # row=[row[i] if row[i]==row[i+length-1] else ({\"R\",\"G\",\"B\"}-{row[i],row[i+length-1]}).pop() for i in range(len(row)-length+1)]\n",
    "            row=[ COLOR[row[i] + row[i+length-1]] for i in range(len(row)-length+1)]\n",
    "    return row[0]"
   ]
  }
 ],
 "metadata": {
  "kernelspec": {
   "display_name": "Python 3",
   "language": "python",
   "name": "python3"
  },
  "language_info": {
   "codemirror_mode": {
    "name": "ipython",
    "version": 3
   },
   "file_extension": ".py",
   "mimetype": "text/x-python",
   "name": "python",
   "nbconvert_exporter": "python",
   "pygments_lexer": "ipython3",
   "version": "3.11.5"
  }
 },
 "nbformat": 4,
 "nbformat_minor": 2
}
